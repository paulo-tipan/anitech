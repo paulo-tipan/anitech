{
 "cells": [
  {
   "cell_type": "code",
   "execution_count": 30,
   "id": "7de92bc0",
   "metadata": {},
   "outputs": [],
   "source": [
    "import psycopg2\n",
    "import pandas as pd"
   ]
  },
  {
   "cell_type": "code",
   "execution_count": 31,
   "id": "8613989d",
   "metadata": {},
   "outputs": [],
   "source": [
    "#Establishing the connection\n",
    "conn = psycopg2.connect(\n",
    "   database=\"postgres\", user='postgres', password='1234', host='127.0.0.1', port= '5432'\n",
    ")"
   ]
  },
  {
   "cell_type": "code",
   "execution_count": 32,
   "id": "69c8cfd1",
   "metadata": {},
   "outputs": [
    {
     "name": "stdout",
     "output_type": "stream",
     "text": [
      "Records inserted........\n"
     ]
    }
   ],
   "source": [
    "#Creating a cursor object using the cursor() method\n",
    "cursor = conn.cursor()\n",
    "\n",
    "# Preparing SQL queries to INSERT a record into the database.\n",
    "cursor.execute(\"\"\"INSERT INTO client_1.sqss_data (sqss_id, insert_date, co2x, o2xx, temp, humi, sensor_name) \n",
    "    VALUES (2,'2022-01-01 12:11:15', 466, 27, 34, 72,'esp32_dev')\"\"\")\n",
    "\n",
    "# Commit your changes in the database\n",
    "conn.commit()\n",
    "print(\"Records inserted........\")"
   ]
  },
  {
   "cell_type": "code",
   "execution_count": 33,
   "id": "f1b8f3ec",
   "metadata": {},
   "outputs": [
    {
     "name": "stderr",
     "output_type": "stream",
     "text": [
      "C:\\Users\\PC\\anaconda3\\envs\\foodloss\\lib\\site-packages\\pandas\\io\\sql.py:761: UserWarning: pandas only support SQLAlchemy connectable(engine/connection) ordatabase string URI or sqlite3 DBAPI2 connectionother DBAPI2 objects are not tested, please consider using SQLAlchemy\n",
      "  warnings.warn(\n"
     ]
    }
   ],
   "source": [
    "df = pd.read_sql_query('select * from client_1.sqss_data', con=conn)"
   ]
  },
  {
   "cell_type": "code",
   "execution_count": 34,
   "id": "2bd8245d",
   "metadata": {},
   "outputs": [
    {
     "data": {
      "text/html": [
       "<div>\n",
       "<style scoped>\n",
       "    .dataframe tbody tr th:only-of-type {\n",
       "        vertical-align: middle;\n",
       "    }\n",
       "\n",
       "    .dataframe tbody tr th {\n",
       "        vertical-align: top;\n",
       "    }\n",
       "\n",
       "    .dataframe thead th {\n",
       "        text-align: right;\n",
       "    }\n",
       "</style>\n",
       "<table border=\"1\" class=\"dataframe\">\n",
       "  <thead>\n",
       "    <tr style=\"text-align: right;\">\n",
       "      <th></th>\n",
       "      <th>sqss_id</th>\n",
       "      <th>insert_date</th>\n",
       "      <th>co2x</th>\n",
       "      <th>o2xx</th>\n",
       "      <th>temp</th>\n",
       "      <th>humi</th>\n",
       "      <th>sensor_name</th>\n",
       "    </tr>\n",
       "  </thead>\n",
       "  <tbody>\n",
       "    <tr>\n",
       "      <th>0</th>\n",
       "      <td>1</td>\n",
       "      <td>2022-01-01 12:11:10</td>\n",
       "      <td>466.0</td>\n",
       "      <td>27.0</td>\n",
       "      <td>34.0</td>\n",
       "      <td>72.0</td>\n",
       "      <td>esp32_dev</td>\n",
       "    </tr>\n",
       "    <tr>\n",
       "      <th>1</th>\n",
       "      <td>2</td>\n",
       "      <td>2022-01-01 12:11:15</td>\n",
       "      <td>466.0</td>\n",
       "      <td>27.0</td>\n",
       "      <td>34.0</td>\n",
       "      <td>72.0</td>\n",
       "      <td>esp32_dev</td>\n",
       "    </tr>\n",
       "  </tbody>\n",
       "</table>\n",
       "</div>"
      ],
      "text/plain": [
       "   sqss_id         insert_date   co2x  o2xx  temp  humi sensor_name\n",
       "0        1 2022-01-01 12:11:10  466.0  27.0  34.0  72.0   esp32_dev\n",
       "1        2 2022-01-01 12:11:15  466.0  27.0  34.0  72.0   esp32_dev"
      ]
     },
     "execution_count": 34,
     "metadata": {},
     "output_type": "execute_result"
    }
   ],
   "source": [
    "df"
   ]
  },
  {
   "cell_type": "code",
   "execution_count": 35,
   "id": "9124b1fc",
   "metadata": {},
   "outputs": [],
   "source": [
    "# Closing the connection\n",
    "conn.close()"
   ]
  },
  {
   "cell_type": "code",
   "execution_count": null,
   "id": "5ad8c321",
   "metadata": {},
   "outputs": [],
   "source": []
  }
 ],
 "metadata": {
  "kernelspec": {
   "display_name": "Python 3 (ipykernel)",
   "language": "python",
   "name": "python3"
  },
  "language_info": {
   "codemirror_mode": {
    "name": "ipython",
    "version": 3
   },
   "file_extension": ".py",
   "mimetype": "text/x-python",
   "name": "python",
   "nbconvert_exporter": "python",
   "pygments_lexer": "ipython3",
   "version": "3.10.4"
  }
 },
 "nbformat": 4,
 "nbformat_minor": 5
}
